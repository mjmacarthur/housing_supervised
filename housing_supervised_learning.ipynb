{
  "nbformat": 4,
  "nbformat_minor": 0,
  "metadata": {
    "colab": {
      "name": "Kaggle_competition_final.ipynb",
      "provenance": [],
      "collapsed_sections": []
    },
    "kernelspec": {
      "name": "python3",
      "display_name": "Python 3"
    },
    "language_info": {
      "name": "python"
    }
  },
  "cells": [
    {
      "cell_type": "markdown",
      "metadata": {
        "id": "-QmaZu3hQKSi"
      },
      "source": [
        "First, I import Kaggle's train and test sets. I clean up the train set by filling in missing numeric values with either 0 or the variable's median. I chose 0 for variables that describe attributes the house doesn't have, such as year the garage was built. I also generate binary variables for most of the qualitative values. Then I obtain a labeled data set from the train set. I label the sale price as y, and I include most of the other variables as X. I leave out several variables that have very little variation. After this is done, I make sure that all variables are numeric instead of strings. Then I use the standardscaler package to standardize X. Finally, I divide X and y into a training and test set."
      ]
    },
    {
      "cell_type": "code",
      "metadata": {
        "colab": {
          "base_uri": "https://localhost:8080/",
          "height": 266
        },
        "id": "r-shDnydM_ir",
        "outputId": "0c3ae457-2895-49e9-bb4f-9229e9b0306e"
      },
      "source": [
        "import pandas as pd\n",
        "import numpy as np\n",
        "\n",
        "train = pd.read_csv('housing_train.csv')\n",
        "train.head(20)"
      ],
      "execution_count": null,
      "outputs": [
        {
          "output_type": "stream",
          "text": [
            "Drive already mounted at /content/gdrive; to attempt to forcibly remount, call drive.mount(\"/content/gdrive\", force_remount=True).\n",
            "/content/gdrive/My Drive/Econ 484/auxiliaries\n"
          ],
          "name": "stdout"
        },
        {
          "output_type": "execute_result",
          "data": {
            "text/html": [
              "<div>\n",
              "<style scoped>\n",
              "    .dataframe tbody tr th:only-of-type {\n",
              "        vertical-align: middle;\n",
              "    }\n",
              "\n",
              "    .dataframe tbody tr th {\n",
              "        vertical-align: top;\n",
              "    }\n",
              "\n",
              "    .dataframe thead th {\n",
              "        text-align: right;\n",
              "    }\n",
              "</style>\n",
              "<table border=\"1\" class=\"dataframe\">\n",
              "  <thead>\n",
              "    <tr style=\"text-align: right;\">\n",
              "      <th></th>\n",
              "      <th>Id</th>\n",
              "      <th>MSSubClass</th>\n",
              "      <th>MSZoning</th>\n",
              "      <th>LotFrontage</th>\n",
              "      <th>...</th>\n",
              "      <th>YrSold</th>\n",
              "      <th>SaleType</th>\n",
              "      <th>SaleCondition</th>\n",
              "      <th>SalePrice</th>\n",
              "    </tr>\n",
              "  </thead>\n",
              "  <tbody>\n",
              "    <tr>\n",
              "      <th>0</th>\n",
              "      <td>1</td>\n",
              "      <td>60</td>\n",
              "      <td>RL</td>\n",
              "      <td>65.0</td>\n",
              "      <td>...</td>\n",
              "      <td>2008</td>\n",
              "      <td>WD</td>\n",
              "      <td>Normal</td>\n",
              "      <td>208500</td>\n",
              "    </tr>\n",
              "    <tr>\n",
              "      <th>1</th>\n",
              "      <td>2</td>\n",
              "      <td>20</td>\n",
              "      <td>RL</td>\n",
              "      <td>80.0</td>\n",
              "      <td>...</td>\n",
              "      <td>2007</td>\n",
              "      <td>WD</td>\n",
              "      <td>Normal</td>\n",
              "      <td>181500</td>\n",
              "    </tr>\n",
              "    <tr>\n",
              "      <th>2</th>\n",
              "      <td>3</td>\n",
              "      <td>60</td>\n",
              "      <td>RL</td>\n",
              "      <td>68.0</td>\n",
              "      <td>...</td>\n",
              "      <td>2008</td>\n",
              "      <td>WD</td>\n",
              "      <td>Normal</td>\n",
              "      <td>223500</td>\n",
              "    </tr>\n",
              "    <tr>\n",
              "      <th>3</th>\n",
              "      <td>4</td>\n",
              "      <td>70</td>\n",
              "      <td>RL</td>\n",
              "      <td>60.0</td>\n",
              "      <td>...</td>\n",
              "      <td>2006</td>\n",
              "      <td>WD</td>\n",
              "      <td>Abnorml</td>\n",
              "      <td>140000</td>\n",
              "    </tr>\n",
              "    <tr>\n",
              "      <th>4</th>\n",
              "      <td>5</td>\n",
              "      <td>60</td>\n",
              "      <td>RL</td>\n",
              "      <td>84.0</td>\n",
              "      <td>...</td>\n",
              "      <td>2008</td>\n",
              "      <td>WD</td>\n",
              "      <td>Normal</td>\n",
              "      <td>250000</td>\n",
              "    </tr>\n",
              "  </tbody>\n",
              "</table>\n",
              "<p>5 rows × 81 columns</p>\n",
              "</div>"
            ],
            "text/plain": [
              "   Id  MSSubClass MSZoning  LotFrontage  ...  YrSold SaleType SaleCondition  \\\n",
              "0   1          60       RL         65.0  ...    2008       WD        Normal   \n",
              "1   2          20       RL         80.0  ...    2007       WD        Normal   \n",
              "2   3          60       RL         68.0  ...    2008       WD        Normal   \n",
              "3   4          70       RL         60.0  ...    2006       WD       Abnorml   \n",
              "4   5          60       RL         84.0  ...    2008       WD        Normal   \n",
              "\n",
              "  SalePrice  \n",
              "0    208500  \n",
              "1    181500  \n",
              "2    223500  \n",
              "3    140000  \n",
              "4    250000  \n",
              "\n",
              "[5 rows x 81 columns]"
            ]
          },
          "metadata": {
            "tags": []
          },
          "execution_count": 82
        }
      ]
    },
    {
      "cell_type": "code",
      "metadata": {
        "id": "EkzpydOj1GDx"
      },
      "source": [
        "train.describe()"
      ],
      "execution_count": null,
      "outputs": []
    },
    {
      "cell_type": "code",
      "metadata": {
        "id": "bZSISA-AW7D5",
        "colab": {
          "base_uri": "https://localhost:8080/",
          "height": 231
        },
        "outputId": "82ccbec7-34cf-4b12-b3e4-9c22511101d8"
      },
      "source": [
        "test = pd.read_csv('housing_test.csv')\n",
        "test.head() "
      ],
      "execution_count": null,
      "outputs": [
        {
          "output_type": "execute_result",
          "data": {
            "text/html": [
              "<div>\n",
              "<style scoped>\n",
              "    .dataframe tbody tr th:only-of-type {\n",
              "        vertical-align: middle;\n",
              "    }\n",
              "\n",
              "    .dataframe tbody tr th {\n",
              "        vertical-align: top;\n",
              "    }\n",
              "\n",
              "    .dataframe thead th {\n",
              "        text-align: right;\n",
              "    }\n",
              "</style>\n",
              "<table border=\"1\" class=\"dataframe\">\n",
              "  <thead>\n",
              "    <tr style=\"text-align: right;\">\n",
              "      <th></th>\n",
              "      <th>Id</th>\n",
              "      <th>MSSubClass</th>\n",
              "      <th>MSZoning</th>\n",
              "      <th>LotFrontage</th>\n",
              "      <th>...</th>\n",
              "      <th>MoSold</th>\n",
              "      <th>YrSold</th>\n",
              "      <th>SaleType</th>\n",
              "      <th>SaleCondition</th>\n",
              "    </tr>\n",
              "  </thead>\n",
              "  <tbody>\n",
              "    <tr>\n",
              "      <th>0</th>\n",
              "      <td>1461</td>\n",
              "      <td>20</td>\n",
              "      <td>RH</td>\n",
              "      <td>80.0</td>\n",
              "      <td>...</td>\n",
              "      <td>6</td>\n",
              "      <td>2010</td>\n",
              "      <td>WD</td>\n",
              "      <td>Normal</td>\n",
              "    </tr>\n",
              "    <tr>\n",
              "      <th>1</th>\n",
              "      <td>1462</td>\n",
              "      <td>20</td>\n",
              "      <td>RL</td>\n",
              "      <td>81.0</td>\n",
              "      <td>...</td>\n",
              "      <td>6</td>\n",
              "      <td>2010</td>\n",
              "      <td>WD</td>\n",
              "      <td>Normal</td>\n",
              "    </tr>\n",
              "    <tr>\n",
              "      <th>2</th>\n",
              "      <td>1463</td>\n",
              "      <td>60</td>\n",
              "      <td>RL</td>\n",
              "      <td>74.0</td>\n",
              "      <td>...</td>\n",
              "      <td>3</td>\n",
              "      <td>2010</td>\n",
              "      <td>WD</td>\n",
              "      <td>Normal</td>\n",
              "    </tr>\n",
              "    <tr>\n",
              "      <th>3</th>\n",
              "      <td>1464</td>\n",
              "      <td>60</td>\n",
              "      <td>RL</td>\n",
              "      <td>78.0</td>\n",
              "      <td>...</td>\n",
              "      <td>6</td>\n",
              "      <td>2010</td>\n",
              "      <td>WD</td>\n",
              "      <td>Normal</td>\n",
              "    </tr>\n",
              "    <tr>\n",
              "      <th>4</th>\n",
              "      <td>1465</td>\n",
              "      <td>120</td>\n",
              "      <td>RL</td>\n",
              "      <td>43.0</td>\n",
              "      <td>...</td>\n",
              "      <td>1</td>\n",
              "      <td>2010</td>\n",
              "      <td>WD</td>\n",
              "      <td>Normal</td>\n",
              "    </tr>\n",
              "  </tbody>\n",
              "</table>\n",
              "<p>5 rows × 80 columns</p>\n",
              "</div>"
            ],
            "text/plain": [
              "     Id  MSSubClass MSZoning  LotFrontage  ...  MoSold YrSold SaleType  \\\n",
              "0  1461          20       RH         80.0  ...       6   2010       WD   \n",
              "1  1462          20       RL         81.0  ...       6   2010       WD   \n",
              "2  1463          60       RL         74.0  ...       3   2010       WD   \n",
              "3  1464          60       RL         78.0  ...       6   2010       WD   \n",
              "4  1465         120       RL         43.0  ...       1   2010       WD   \n",
              "\n",
              "  SaleCondition  \n",
              "0        Normal  \n",
              "1        Normal  \n",
              "2        Normal  \n",
              "3        Normal  \n",
              "4        Normal  \n",
              "\n",
              "[5 rows x 80 columns]"
            ]
          },
          "metadata": {
            "tags": []
          },
          "execution_count": 83
        }
      ]
    },
    {
      "cell_type": "code",
      "metadata": {
        "id": "meBpe7bX1IYt"
      },
      "source": [
        "test.describe()"
      ],
      "execution_count": null,
      "outputs": []
    },
    {
      "cell_type": "code",
      "metadata": {
        "id": "mke5IEoGRxrf"
      },
      "source": [
        "train['LotFrontage'].fillna(train['LotFrontage'].median(), inplace=True)\n",
        "train['MasVnrArea'].fillna(0, inplace=True)\n",
        "train['GarageYrBlt'].fillna(0, inplace=True)"
      ],
      "execution_count": null,
      "outputs": []
    },
    {
      "cell_type": "code",
      "metadata": {
        "id": "Q4QVtrUS6lLF"
      },
      "source": [
        "MSZoningdummy = pd.get_dummies(train['MSZoning'])\n",
        "MSZoningdummy.columns = ['C (all)','FV','RH','RL','RM'] \n",
        "\n",
        "LotShapedummy = pd.get_dummies(train['LotShape'])\n",
        "LotShapedummy.columns = ['Reg','IR1','IR2','IR3']\n",
        "\n",
        "LotConfigdummy = pd.get_dummies(train['LotConfig'])\n",
        "LotConfigdummy.columns = ['Inside','Corner','CulDSac','FR2','FR3']\n",
        "\n",
        "Neighborhooddummy = pd.get_dummies(train['Neighborhood'])\n",
        "Neighborhooddummy.columns = ['Blmngtn','Blueste','BrDale','BrkSide','ClearCR','CollgCr','Crawfor','Edwards','Gilbert','IDOTRR','MeadowV','Mitchel','Names','NoRidge','NPkVill','NridgHt','NWAmes','OldTown','SWISU','Sawyer','SawyerW','Somerst','StoneBr','Timber','Veenker']\n",
        "\n",
        "BldgTypedummy = pd.get_dummies(train['BldgType'])\n",
        "BldgTypedummy.columns = ['1Fam','2FmCon','Duplx','TwnhsE','TwnhsI']\n",
        "\n",
        "HouseStyledummy = pd.get_dummies(train['HouseStyle'])\n",
        "HouseStyledummy.columns = ['1Story','1.5Fin','1.5Unf','2Story','2.5Fin','2.5Unf','SFoyer','SLvl']\n",
        "HouseStyledummy = HouseStyledummy.drop(['2.5Fin'], axis=1)\n",
        "#I drop this because the test set has no observations where HouseStyle = 2.5Fin\n",
        "\n",
        "RoofStyledummy = pd.get_dummies(train['RoofStyle'])\n",
        "RoofStyledummy.columns = ['Flat','Gable','Gambrel','Hip','Mansard','Shed']\n",
        "\n",
        "Exterior1stdummy = pd.get_dummies(train['Exterior1st'])\n",
        "Exterior1stdummy.columns = ['AsbShng','AsphShn','BrkComm','BrkFace','CBlock','CemntBd','HdBoard','ImStucc','MetalSd','Plywood','Stone','Stucco','VinylSd','Wd Sdng','WdShing']\n",
        "Exterior1stdummy = Exterior1stdummy.drop(['ImStucc','Stone'], axis=1)\n",
        "#I drop these because the test set has no observations where Exterior1st = ImStucc or Stone\n",
        "\n",
        "Exterior2nddummy = pd.get_dummies(train['Exterior2nd'])\n",
        "Exterior2nddummy.columns = ['AsbShng','AsphShn','BrkComm','BrkFace','CBlock','CemntBd','HdBoard','ImStucc','MetalSd','Other','Plywood','Stone','Stucco','VinylSd','Wd Sdng','WdShing']\n",
        "Exterior2nddummy = Exterior2nddummy.drop(['BrkComm'], axis=1)\n",
        "#I drop this because the test set has no observations where Exterior2nd = BrkComm\n",
        "\n",
        "MasVnrTypedummy = pd.get_dummies(train['MasVnrType']) \n",
        "MasVnrTypedummy.columns = ['BrkCmn','BrkFace','None','Stone']\n",
        "\n",
        "Foundationdummy = pd.get_dummies(train['Foundation'])\n",
        "Foundationdummy.columns = ['BrkTil','CBlock','PConc','Slab','Stone','Wood'] \n",
        "\n",
        "BsmtQualdummy = pd.get_dummies(train['BsmtQual'])\n",
        "BsmtQualdummy.columns = ['Ex','Gd','TA','Fa'] \n",
        "\n",
        "BsmtConddummy = pd.get_dummies(train['BsmtCond'])\n",
        "BsmtConddummy.columns = ['Gd','TA','Fa','Po'] \n",
        "\n",
        "BsmtExposuredummy = pd.get_dummies(train['BsmtExposure'])\n",
        "BsmtExposuredummy.columns = ['Gd','Av','Mn','No'] \n",
        "\n",
        "HeatingQCdummy = pd.get_dummies(train['HeatingQC'])\n",
        "HeatingQCdummy.columns = ['Ex','Gd','TA','Fa','Po'] \n",
        "\n",
        "Electricaldummy = pd.get_dummies(train['Electrical'])\n",
        "Electricaldummy.columns = ['SBrkr','FuseA','FuseF','FuseP','Mix']\n",
        "Electricaldummy = Electricaldummy.drop(['Mix'], axis=1)\n",
        "#I drop this because the test set has no observations where Electrical = Mix\n",
        "\n",
        "KitchenQualdummy = pd.get_dummies(train['KitchenQual'])\n",
        "KitchenQualdummy.columns = ['Ex','Gd','TA','Fa']   \n",
        "\n",
        "GarageTypedummy = pd.get_dummies(train['GarageType'])\n",
        "GarageTypedummy.columns = ['2Types','Attchd','Basment','BuiltIn','CarPort','Detchd'] \n",
        "\n",
        "GarageFinishdummy = pd.get_dummies(train['GarageFinish'])\n",
        "GarageFinishdummy.columns = ['Fin','RFn','Unf'] \n",
        "\n",
        "GarageQualdummy = pd.get_dummies(train['GarageQual'])\n",
        "GarageQualdummy.columns = ['Ex','Gd','TA','Fa','Po'] \n",
        "GarageQualdummy = GarageQualdummy.drop(['Ex'], axis=1)\n",
        "#I drop this because the test set has no observations where GarageQual = Ex\n",
        "\n",
        "PavedDrivedummy = pd.get_dummies(train['PavedDrive'])\n",
        "PavedDrivedummy.columns = ['Y','P','N']\n",
        "\n",
        "SaleTypedummy = pd.get_dummies(train['SaleType'])\n",
        "SaleTypedummy.columns = ['WD','CWD','New','COD','Con','ConLw','ConLI','ConLD','Oth']\n",
        "\n",
        "SaleConditiondummy = pd.get_dummies(train['SaleCondition'])\n",
        "SaleConditiondummy.columns = ['Normal','Abnorml','AdjLand','Alloca','Family','Partial']"
      ],
      "execution_count": null,
      "outputs": []
    },
    {
      "cell_type": "code",
      "metadata": {
        "id": "mym0K-JBRQwL",
        "colab": {
          "base_uri": "https://localhost:8080/",
          "height": 231
        },
        "outputId": "5232ffd8-9f4a-462e-8e4b-97764f192152"
      },
      "source": [
        "#Appends all of the binary variables to train and drops the original qualitative variables that were used to generate them\n",
        "train = pd.concat([train,MSZoningdummy,LotShapedummy,LotConfigdummy,Neighborhooddummy,BldgTypedummy,HouseStyledummy,RoofStyledummy,Exterior1stdummy,Exterior2nddummy,MasVnrTypedummy,\n",
        "                   Foundationdummy,BsmtQualdummy,BsmtConddummy,BsmtExposuredummy,HeatingQCdummy,Electricaldummy,KitchenQualdummy,GarageTypedummy,\n",
        "                   GarageFinishdummy,GarageQualdummy,PavedDrivedummy,SaleTypedummy,SaleConditiondummy], axis=1) \n",
        "\n",
        "train = train.drop(['MSZoning','LotShape','LotConfig','Neighborhood','BldgType','HouseStyle','RoofStyle','Exterior1st','Exterior2nd','MasVnrType','Foundation','BsmtQual',\n",
        "                    'BsmtCond','BsmtExposure','HeatingQC','Electrical','KitchenQual','GarageType','GarageFinish','GarageQual','PavedDrive',\n",
        "                    'SaleType','SaleCondition'], axis=1)        \n",
        "\n",
        "train.head()\n"
      ],
      "execution_count": null,
      "outputs": [
        {
          "output_type": "execute_result",
          "data": {
            "text/html": [
              "<div>\n",
              "<style scoped>\n",
              "    .dataframe tbody tr th:only-of-type {\n",
              "        vertical-align: middle;\n",
              "    }\n",
              "\n",
              "    .dataframe tbody tr th {\n",
              "        vertical-align: top;\n",
              "    }\n",
              "\n",
              "    .dataframe thead th {\n",
              "        text-align: right;\n",
              "    }\n",
              "</style>\n",
              "<table border=\"1\" class=\"dataframe\">\n",
              "  <thead>\n",
              "    <tr style=\"text-align: right;\">\n",
              "      <th></th>\n",
              "      <th>Id</th>\n",
              "      <th>MSSubClass</th>\n",
              "      <th>LotFrontage</th>\n",
              "      <th>LotArea</th>\n",
              "      <th>...</th>\n",
              "      <th>AdjLand</th>\n",
              "      <th>Alloca</th>\n",
              "      <th>Family</th>\n",
              "      <th>Partial</th>\n",
              "    </tr>\n",
              "  </thead>\n",
              "  <tbody>\n",
              "    <tr>\n",
              "      <th>0</th>\n",
              "      <td>1</td>\n",
              "      <td>60</td>\n",
              "      <td>65.0</td>\n",
              "      <td>8450</td>\n",
              "      <td>...</td>\n",
              "      <td>0</td>\n",
              "      <td>0</td>\n",
              "      <td>1</td>\n",
              "      <td>0</td>\n",
              "    </tr>\n",
              "    <tr>\n",
              "      <th>1</th>\n",
              "      <td>2</td>\n",
              "      <td>20</td>\n",
              "      <td>80.0</td>\n",
              "      <td>9600</td>\n",
              "      <td>...</td>\n",
              "      <td>0</td>\n",
              "      <td>0</td>\n",
              "      <td>1</td>\n",
              "      <td>0</td>\n",
              "    </tr>\n",
              "    <tr>\n",
              "      <th>2</th>\n",
              "      <td>3</td>\n",
              "      <td>60</td>\n",
              "      <td>68.0</td>\n",
              "      <td>11250</td>\n",
              "      <td>...</td>\n",
              "      <td>0</td>\n",
              "      <td>0</td>\n",
              "      <td>1</td>\n",
              "      <td>0</td>\n",
              "    </tr>\n",
              "    <tr>\n",
              "      <th>3</th>\n",
              "      <td>4</td>\n",
              "      <td>70</td>\n",
              "      <td>60.0</td>\n",
              "      <td>9550</td>\n",
              "      <td>...</td>\n",
              "      <td>0</td>\n",
              "      <td>0</td>\n",
              "      <td>0</td>\n",
              "      <td>0</td>\n",
              "    </tr>\n",
              "    <tr>\n",
              "      <th>4</th>\n",
              "      <td>5</td>\n",
              "      <td>60</td>\n",
              "      <td>84.0</td>\n",
              "      <td>14260</td>\n",
              "      <td>...</td>\n",
              "      <td>0</td>\n",
              "      <td>0</td>\n",
              "      <td>1</td>\n",
              "      <td>0</td>\n",
              "    </tr>\n",
              "  </tbody>\n",
              "</table>\n",
              "<p>5 rows × 209 columns</p>\n",
              "</div>"
            ],
            "text/plain": [
              "   Id  MSSubClass  LotFrontage  LotArea  ... AdjLand Alloca Family Partial\n",
              "0   1          60         65.0     8450  ...       0      0      1       0\n",
              "1   2          20         80.0     9600  ...       0      0      1       0\n",
              "2   3          60         68.0    11250  ...       0      0      1       0\n",
              "3   4          70         60.0     9550  ...       0      0      0       0\n",
              "4   5          60         84.0    14260  ...       0      0      1       0\n",
              "\n",
              "[5 rows x 209 columns]"
            ]
          },
          "metadata": {
            "tags": []
          },
          "execution_count": 86
        }
      ]
    },
    {
      "cell_type": "code",
      "metadata": {
        "colab": {
          "base_uri": "https://localhost:8080/",
          "height": 231
        },
        "id": "qlHO6uo5Poyq",
        "outputId": "59b94c4b-5d95-46e5-8fbf-3ebd6e191123"
      },
      "source": [
        "#Creates labeled data set\n",
        "y = train['SalePrice']\n",
        "X = train.drop(['SalePrice','Id','Street','Alley','LandContour','Utilities','LandSlope','Condition1','Condition2','RoofMatl','ExterQual','ExterCond','BsmtFinType1','BsmtFinSF1','BsmtFinType2','BsmtFinSF2','Heating','CentralAir','LowQualFinSF','Functional','FireplaceQu','GarageCond','PoolQC','Fence','MiscFeature'], axis=1)\n",
        "X.head()"
      ],
      "execution_count": null,
      "outputs": [
        {
          "output_type": "execute_result",
          "data": {
            "text/html": [
              "<div>\n",
              "<style scoped>\n",
              "    .dataframe tbody tr th:only-of-type {\n",
              "        vertical-align: middle;\n",
              "    }\n",
              "\n",
              "    .dataframe tbody tr th {\n",
              "        vertical-align: top;\n",
              "    }\n",
              "\n",
              "    .dataframe thead th {\n",
              "        text-align: right;\n",
              "    }\n",
              "</style>\n",
              "<table border=\"1\" class=\"dataframe\">\n",
              "  <thead>\n",
              "    <tr style=\"text-align: right;\">\n",
              "      <th></th>\n",
              "      <th>MSSubClass</th>\n",
              "      <th>LotFrontage</th>\n",
              "      <th>LotArea</th>\n",
              "      <th>OverallQual</th>\n",
              "      <th>...</th>\n",
              "      <th>AdjLand</th>\n",
              "      <th>Alloca</th>\n",
              "      <th>Family</th>\n",
              "      <th>Partial</th>\n",
              "    </tr>\n",
              "  </thead>\n",
              "  <tbody>\n",
              "    <tr>\n",
              "      <th>0</th>\n",
              "      <td>60</td>\n",
              "      <td>65.0</td>\n",
              "      <td>8450</td>\n",
              "      <td>7</td>\n",
              "      <td>...</td>\n",
              "      <td>0</td>\n",
              "      <td>0</td>\n",
              "      <td>1</td>\n",
              "      <td>0</td>\n",
              "    </tr>\n",
              "    <tr>\n",
              "      <th>1</th>\n",
              "      <td>20</td>\n",
              "      <td>80.0</td>\n",
              "      <td>9600</td>\n",
              "      <td>6</td>\n",
              "      <td>...</td>\n",
              "      <td>0</td>\n",
              "      <td>0</td>\n",
              "      <td>1</td>\n",
              "      <td>0</td>\n",
              "    </tr>\n",
              "    <tr>\n",
              "      <th>2</th>\n",
              "      <td>60</td>\n",
              "      <td>68.0</td>\n",
              "      <td>11250</td>\n",
              "      <td>7</td>\n",
              "      <td>...</td>\n",
              "      <td>0</td>\n",
              "      <td>0</td>\n",
              "      <td>1</td>\n",
              "      <td>0</td>\n",
              "    </tr>\n",
              "    <tr>\n",
              "      <th>3</th>\n",
              "      <td>70</td>\n",
              "      <td>60.0</td>\n",
              "      <td>9550</td>\n",
              "      <td>7</td>\n",
              "      <td>...</td>\n",
              "      <td>0</td>\n",
              "      <td>0</td>\n",
              "      <td>0</td>\n",
              "      <td>0</td>\n",
              "    </tr>\n",
              "    <tr>\n",
              "      <th>4</th>\n",
              "      <td>60</td>\n",
              "      <td>84.0</td>\n",
              "      <td>14260</td>\n",
              "      <td>8</td>\n",
              "      <td>...</td>\n",
              "      <td>0</td>\n",
              "      <td>0</td>\n",
              "      <td>1</td>\n",
              "      <td>0</td>\n",
              "    </tr>\n",
              "  </tbody>\n",
              "</table>\n",
              "<p>5 rows × 184 columns</p>\n",
              "</div>"
            ],
            "text/plain": [
              "   MSSubClass  LotFrontage  LotArea  OverallQual  ...  AdjLand  Alloca  \\\n",
              "0          60         65.0     8450            7  ...        0       0   \n",
              "1          20         80.0     9600            6  ...        0       0   \n",
              "2          60         68.0    11250            7  ...        0       0   \n",
              "3          70         60.0     9550            7  ...        0       0   \n",
              "4          60         84.0    14260            8  ...        0       0   \n",
              "\n",
              "   Family  Partial  \n",
              "0       1        0  \n",
              "1       1        0  \n",
              "2       1        0  \n",
              "3       0        0  \n",
              "4       1        0  \n",
              "\n",
              "[5 rows x 184 columns]"
            ]
          },
          "metadata": {
            "tags": []
          },
          "execution_count": 87
        }
      ]
    },
    {
      "cell_type": "code",
      "metadata": {
        "id": "xGdvaQXtjtEM"
      },
      "source": [
        "X = X.apply(pd.to_numeric, errors='coerce')\n",
        "y = y.apply(pd.to_numeric, errors='coerce')\n",
        "from sklearn.preprocessing import StandardScaler\n",
        "scaler = StandardScaler().fit(X)\n",
        "x_scaled = scaler.transform(X)"
      ],
      "execution_count": null,
      "outputs": []
    },
    {
      "cell_type": "code",
      "metadata": {
        "id": "JBlzafVZFRV_"
      },
      "source": [
        "from sklearn.model_selection import train_test_split \n",
        "X_train, X_test, y_train, y_test = train_test_split(x_scaled, y, random_state=42)"
      ],
      "execution_count": null,
      "outputs": []
    },
    {
      "cell_type": "markdown",
      "metadata": {
        "id": "KajOUviVRwck"
      },
      "source": [
        "Now, I tune several possible regression models. First, I import lasso, ridge, decision tree regressor, random forest regressor, k neighbors regressor, gradient boosting regressor, and support vector machine. For each of these methods, I choose tuning parameters by using the gridsearch package to perform cross-validation with 5 folds. Once gridsearch has chosen the best tuning parameters for the training set, I use these parameters to estimate the model on the test set.\n"
      ]
    },
    {
      "cell_type": "code",
      "metadata": {
        "id": "0nYJRVhMFSDB"
      },
      "source": [
        "from sklearn.linear_model import Lasso\n",
        "from sklearn.linear_model import Ridge\n",
        "from sklearn.tree import DecisionTreeRegressor\n",
        "from sklearn.ensemble import RandomForestRegressor\n",
        "from sklearn.neighbors import KNeighborsRegressor\n",
        "from sklearn.ensemble import GradientBoostingRegressor\n",
        "from sklearn.svm import SVC"
      ],
      "execution_count": null,
      "outputs": []
    },
    {
      "cell_type": "code",
      "metadata": {
        "id": "Z93iEJhvFSaS",
        "colab": {
          "base_uri": "https://localhost:8080/"
        },
        "outputId": "b3054d53-2328-4c48-bcce-d5286e059c0a"
      },
      "source": [
        "#Lasso\n",
        "from sklearn.model_selection import GridSearchCV\n",
        "alpha_grid = {'alpha': [.008, .01, .012, .014, .016 ,.018, .02 ]}\n",
        "grid_search = GridSearchCV(Lasso(),alpha_grid,cv=5,return_train_score=True)\n",
        "best_model=grid_search.fit(X_train,y_train)\n",
        "print(\"Best alpha: \",best_model.best_estimator_.get_params()['alpha'])\n",
        "print(\"Test set score: {:.2f}\".format(grid_search.score(X_test,y_test))) "
      ],
      "execution_count": null,
      "outputs": [
        {
          "output_type": "stream",
          "text": [
            "Best alpha:  0.02\n",
            "Test set score: 0.86\n"
          ],
          "name": "stdout"
        }
      ]
    },
    {
      "cell_type": "code",
      "metadata": {
        "id": "ZuiFM0tXkJbn",
        "colab": {
          "base_uri": "https://localhost:8080/"
        },
        "outputId": "43727bfc-01b4-40f9-9649-274604c41555"
      },
      "source": [
        "#Ridge\n",
        "alpha_grid = {'alpha': [.008, .01, .012, .014, .016 ,.018, .02 ]}\n",
        "grid_search = GridSearchCV(Ridge(),alpha_grid,cv=5,return_train_score=True)\n",
        "best_model=grid_search.fit(X_train,y_train)\n",
        "print(\"Best alpha: \",best_model.best_estimator_.get_params()['alpha'])\n",
        "print(\"Test set score: {:.2f}\".format(grid_search.score(X_test,y_test))) "
      ],
      "execution_count": null,
      "outputs": [
        {
          "output_type": "stream",
          "text": [
            "Best alpha:  0.02\n",
            "Test set score: 0.86\n"
          ],
          "name": "stdout"
        }
      ]
    },
    {
      "cell_type": "code",
      "metadata": {
        "id": "cqu5Hf1b34RJ",
        "colab": {
          "base_uri": "https://localhost:8080/"
        },
        "outputId": "2e0ca01a-4f5d-4334-ab40-7eaf3aee4ac7"
      },
      "source": [
        "#Decision Tree\n",
        "grid = {'max_depth': [2,3,5,8,10,12]}\n",
        "grid_search = GridSearchCV(DecisionTreeRegressor(),grid,cv=5,return_train_score=True)\n",
        "best_model=grid_search.fit(X_train,y_train)\n",
        "print(\"Best max depth: \",best_model.best_estimator_.get_params()['max_depth'])\n",
        "print(\"Test set score: {:.2f}\".format(grid_search.score(X_test,y_test)))"
      ],
      "execution_count": null,
      "outputs": [
        {
          "output_type": "stream",
          "text": [
            "Best max depth:  12\n",
            "Test set score: 0.77\n"
          ],
          "name": "stdout"
        }
      ]
    },
    {
      "cell_type": "code",
      "metadata": {
        "id": "lP2SH0MU8b3g",
        "colab": {
          "base_uri": "https://localhost:8080/"
        },
        "outputId": "a88304d7-c12c-42f7-fc15-ee208bd4465f"
      },
      "source": [
        "#Random Forest\n",
        "grid = {'max_depth': [2,3,5,8,10], 'n_estimators': [10,20,50,75,100,125], 'min_samples_leaf': [1,2,3,5], 'max_features': ['auto','sqrt','log2']}\n",
        "grid_search = GridSearchCV(RandomForestRegressor(),grid,cv=5,return_train_score=True)\n",
        "best_model=grid_search.fit(X_train,y_train)\n",
        "print(\"Best number of estimators: \",best_model.best_estimator_.get_params()['n_estimators'])\n",
        "print(\"Best min samples per leaf: \",best_model.best_estimator_.get_params()['min_samples_leaf'])\n",
        "print(\"Best max features: \",best_model.best_estimator_.get_params()['max_features'])\n",
        "print(\"Best max depth: \",best_model.best_estimator_.get_params()['max_depth'])\n",
        "print(\"Test set score: {:.2f}\".format(grid_search.score(X_test,y_test))) "
      ],
      "execution_count": null,
      "outputs": [
        {
          "output_type": "stream",
          "text": [
            "Best number of estimators:  100\n",
            "Best min samples per leaf:  1\n",
            "Best max features:  sqrt\n",
            "Best max depth:  10\n",
            "Test set score: 0.86\n"
          ],
          "name": "stdout"
        }
      ]
    },
    {
      "cell_type": "code",
      "metadata": {
        "colab": {
          "base_uri": "https://localhost:8080/"
        },
        "id": "qy2pSLGQ2mkw",
        "outputId": "be98195b-b539-4995-98ea-ab4db7dfea7c"
      },
      "source": [
        "#K Neighbors\n",
        "grid = {'n_neighbors': [2,3,5,8,10], 'weights': ['uniform','distance'], 'algorithm': ['auto','ball_tree','kd_tree','brute']} \n",
        "grid_search = GridSearchCV(KNeighborsRegressor(),grid,cv=5,return_train_score=True) \n",
        "best_model=grid_search.fit(X_train,y_train)\n",
        "print(\"Best number of neighbors: \",best_model.best_estimator_.get_params()['n_neighbors'])\n",
        "print(\"Best weights: \",best_model.best_estimator_.get_params()['weights'])\n",
        "print(\"Best algorithm: \",best_model.best_estimator_.get_params()['algorithm'])\n",
        "print(\"Test set score: {:.2f}\".format(grid_search.score(X_test,y_test))) "
      ],
      "execution_count": null,
      "outputs": [
        {
          "output_type": "stream",
          "text": [
            "Best number of neighbors:  10\n",
            "Best weights:  distance\n",
            "Best algorithm:  auto\n",
            "Test set score: 0.75\n"
          ],
          "name": "stdout"
        }
      ]
    },
    {
      "cell_type": "code",
      "metadata": {
        "colab": {
          "base_uri": "https://localhost:8080/"
        },
        "id": "l4mlgPcV2naK",
        "outputId": "f0e44671-1c43-4e11-9d35-402aa550e240"
      },
      "source": [
        "#Gradient Boosting\n",
        "grid = {'max_depth': [2,3,5,8,10], 'n_estimators': [10,20,50,75,100,125], 'min_samples_leaf': [1,2,3,5], 'max_features': ['auto','sqrt','log2'], 'loss': ['ls','lad','huber','quantile']} \n",
        "grid_search = GridSearchCV(GradientBoostingRegressor(),grid,cv=5,return_train_score=True) \n",
        "best_model=grid_search.fit(X_train,y_train)\n",
        "print(\"Best number of estimators: \",best_model.best_estimator_.get_params()['n_estimators'])\n",
        "print(\"Best min samples per leaf: \",best_model.best_estimator_.get_params()['min_samples_leaf'])\n",
        "print(\"Best max features: \",best_model.best_estimator_.get_params()['max_features'])\n",
        "print(\"Best max depth: \",best_model.best_estimator_.get_params()['max_depth'])\n",
        "print(\"Best loss function: \",best_model.best_estimator_.get_params()['loss'])\n",
        "print(\"Test set score: {:.2f}\".format(grid_search.score(X_test,y_test))) "
      ],
      "execution_count": null,
      "outputs": [
        {
          "output_type": "stream",
          "text": [
            "Best number of estimators:  100\n",
            "Best min samples per leaf:  3\n",
            "Best max features:  sqrt\n",
            "Best max depth:  10\n",
            "Best loss function:  ls\n",
            "Test set score: 0.90\n"
          ],
          "name": "stdout"
        }
      ]
    },
    {
      "cell_type": "code",
      "metadata": {
        "id": "SLahb_cz2pnt"
      },
      "source": [
        "#Support Vector Machine\n",
        "grid = {'C': [0.10, 1.00, 10.00, 1000.00],'gamma': [0.10, 1.00, 10.00],'kernel': ['rbf', 'poly', 'linear']}\n",
        "grid_search = GridSearchCV(SVC(random_state=0),grid,cv=5,return_train_score=True) \n",
        "best_model=grid_search.fit(X_train,y_train)\n",
        "print(\"Best C: \",best_model.best_estimator_.get_params()['C'])\n",
        "print(\"Best gamma: \",best_model.best_estimator_.get_params()['gamma'])\n",
        "print(\"Best kernel: \",best_model.best_estimator_.get_params()['kernel'])\n",
        "print(\"Test set score: {:.2f}\".format(grid_search.score(X_test,y_test))) "
      ],
      "execution_count": null,
      "outputs": []
    },
    {
      "cell_type": "markdown",
      "metadata": {
        "id": "rcb9ciFuP0x7"
      },
      "source": [
        "Finally, now that I have tuned several possible models, I choose the gradient boosted regressor model because it had the highest score on the test set. Then I use all of X and y (not just X_train and y_train) to fit the model, and then I predict sale prices on the test set provided by Kaggle. Before I can generate those predictions, however, I clean up Kaggle's test set and label X_final in the same way as I did for X and the train set (filling in missing values, generating the same binary variables, selecting the same columns for X_final, standardizing X_final)."
      ]
    },
    {
      "cell_type": "code",
      "metadata": {
        "id": "ejGRbcn-2rQW",
        "colab": {
          "base_uri": "https://localhost:8080/"
        },
        "outputId": "bae7a638-3bd2-4074-9033-0113908512f9"
      },
      "source": [
        "boost = GradientBoostingRegressor(max_depth=5,n_estimators=125,min_samples_leaf=1,max_features='sqrt',loss='ls') \n",
        "boost.fit(X, y)"
      ],
      "execution_count": null,
      "outputs": [
        {
          "output_type": "execute_result",
          "data": {
            "text/plain": [
              "GradientBoostingRegressor(alpha=0.9, ccp_alpha=0.0, criterion='friedman_mse',\n",
              "                          init=None, learning_rate=0.1, loss='ls', max_depth=5,\n",
              "                          max_features='sqrt', max_leaf_nodes=None,\n",
              "                          min_impurity_decrease=0.0, min_impurity_split=None,\n",
              "                          min_samples_leaf=1, min_samples_split=2,\n",
              "                          min_weight_fraction_leaf=0.0, n_estimators=125,\n",
              "                          n_iter_no_change=None, presort='deprecated',\n",
              "                          random_state=None, subsample=1.0, tol=0.0001,\n",
              "                          validation_fraction=0.1, verbose=0, warm_start=False)"
            ]
          },
          "metadata": {
            "tags": []
          },
          "execution_count": 91
        }
      ]
    },
    {
      "cell_type": "code",
      "metadata": {
        "id": "G-jTOOvtZFuj"
      },
      "source": [
        "#Makes the test set usable\n",
        "test['LotFrontage'].fillna(test['LotFrontage'].median(), inplace=True) \n",
        "test['MasVnrArea'].fillna(0, inplace=True)\n",
        "test['GarageYrBlt'].fillna(0, inplace=True) \n",
        "\n",
        "\n",
        "MSZoningdummy = pd.get_dummies(test['MSZoning'])\n",
        "MSZoningdummy.columns = ['C (all)','FV','RH','RL','RM'] \n",
        "\n",
        "LotShapedummy = pd.get_dummies(test['LotShape'])\n",
        "LotShapedummy.columns = ['Reg','IR1','IR2','IR3']\n",
        "\n",
        "LotConfigdummy = pd.get_dummies(test['LotConfig'])\n",
        "LotConfigdummy.columns = ['Inside','Corner','CulDSac','FR2','FR3']\n",
        "\n",
        "Neighborhooddummy = pd.get_dummies(test['Neighborhood'])\n",
        "Neighborhooddummy.columns = ['Blmngtn','Blueste','BrDale','BrkSide','ClearCR','CollgCr','Crawfor','Edwards','Gilbert','IDOTRR','MeadowV','Mitchel','Names','NoRidge','NPkVill','NridgHt','NWAmes','OldTown','SWISU','Sawyer','SawyerW','Somerst','StoneBr','Timber','Veenker']\n",
        "\n",
        "BldgTypedummy = pd.get_dummies(test['BldgType'])\n",
        "BldgTypedummy.columns = ['1Fam','2FmCon','Duplx','TwnhsE','TwnhsI']\n",
        "\n",
        "HouseStyledummy = pd.get_dummies(test['HouseStyle'])\n",
        "HouseStyledummy.columns = ['1Story','1.5Fin','1.5Unf','2Story','2.5Unf','SFoyer','SLvl'] \n",
        "\n",
        "RoofStyledummy = pd.get_dummies(test['RoofStyle'])\n",
        "RoofStyledummy.columns = ['Flat','Gable','Gambrel','Hip','Mansard','Shed']\n",
        "\n",
        "Exterior1stdummy = pd.get_dummies(test['Exterior1st']) \n",
        "Exterior1stdummy.columns = ['AsbShng','AsphShn','BrkComm','BrkFace','CBlock','CemntBd','HdBoard','MetalSd','Plywood','Stucco','VinylSd','Wd Sdng','WdShing']\n",
        "\n",
        "Exterior2nddummy = pd.get_dummies(test['Exterior2nd'])\n",
        "Exterior2nddummy.columns = ['AsbShng','AsphShn','BrkFace','CBlock','CemntBd','HdBoard','ImStucc','MetalSd','Other','Plywood','Stone','Stucco','VinylSd','Wd Sdng','WdShing']\n",
        "\n",
        "MasVnrTypedummy = pd.get_dummies(test['MasVnrType']) \n",
        "MasVnrTypedummy.columns = ['BrkCmn','BrkFace','None','Stone']\n",
        "\n",
        "Foundationdummy = pd.get_dummies(test['Foundation'])\n",
        "Foundationdummy.columns = ['BrkTil','CBlock','PConc','Slab','Stone','Wood'] \n",
        "\n",
        "BsmtQualdummy = pd.get_dummies(test['BsmtQual']) \n",
        "BsmtQualdummy.columns = ['Ex','Gd','TA','Fa'] \n",
        "\n",
        "BsmtConddummy = pd.get_dummies(test['BsmtCond'])\n",
        "BsmtConddummy.columns = ['Gd','TA','Fa','Po'] \n",
        "\n",
        "BsmtExposuredummy = pd.get_dummies(test['BsmtExposure'])\n",
        "BsmtExposuredummy.columns = ['Gd','Av','Mn','No'] \n",
        "\n",
        "HeatingQCdummy = pd.get_dummies(test['HeatingQC'])\n",
        "HeatingQCdummy.columns = ['Ex','Gd','TA','Fa','Po'] \n",
        "\n",
        "Electricaldummy = pd.get_dummies(test['Electrical'])\n",
        "Electricaldummy.columns = ['SBrkr','FuseA','FuseF','FuseP']\n",
        "\n",
        "KitchenQualdummy = pd.get_dummies(test['KitchenQual'])\n",
        "KitchenQualdummy.columns = ['Ex','Gd','TA','Fa']\n",
        "\n",
        "GarageTypedummy = pd.get_dummies(test['GarageType'])\n",
        "GarageTypedummy.columns = ['2Types','Attchd','Basment','BuiltIn','CarPort','Detchd'] \n",
        "\n",
        "GarageFinishdummy = pd.get_dummies(test['GarageFinish'])\n",
        "GarageFinishdummy.columns = ['Fin','RFn','Unf'] \n",
        "\n",
        "GarageQualdummy = pd.get_dummies(test['GarageQual'])\n",
        "GarageQualdummy.columns = ['Gd','TA','Fa','Po'] \n",
        "\n",
        "PavedDrivedummy = pd.get_dummies(test['PavedDrive'])\n",
        "PavedDrivedummy.columns = ['Y','P','N']\n",
        "\n",
        "SaleTypedummy = pd.get_dummies(test['SaleType'])\n",
        "SaleTypedummy.columns = ['WD','CWD','New','COD','Con','ConLw','ConLI','ConLD','Oth']\n",
        "\n",
        "SaleConditiondummy = pd.get_dummies(test['SaleCondition'])\n",
        "SaleConditiondummy.columns = ['Normal','Abnorml','AdjLand','Alloca','Family','Partial']"
      ],
      "execution_count": null,
      "outputs": []
    },
    {
      "cell_type": "code",
      "metadata": {
        "id": "-z9hCAVsZyEf",
        "colab": {
          "base_uri": "https://localhost:8080/",
          "height": 231
        },
        "outputId": "42829a58-f498-4e49-f18e-8f0e6771bb03"
      },
      "source": [
        "test = pd.concat([test,MSZoningdummy,LotShapedummy,LotConfigdummy,Neighborhooddummy,BldgTypedummy,HouseStyledummy,RoofStyledummy,Exterior1stdummy,Exterior2nddummy,MasVnrTypedummy,\n",
        "                   Foundationdummy,BsmtQualdummy,BsmtConddummy,BsmtExposuredummy,HeatingQCdummy,Electricaldummy,KitchenQualdummy,GarageTypedummy,\n",
        "                   GarageFinishdummy,GarageQualdummy,PavedDrivedummy,SaleTypedummy,SaleConditiondummy], axis=1) \n",
        "\n",
        "test = test.drop(['MSZoning','LotShape','LotConfig','Neighborhood','BldgType','HouseStyle','RoofStyle','Exterior1st','Exterior2nd','MasVnrType','Foundation','BsmtQual',\n",
        "                    'BsmtCond','BsmtExposure','HeatingQC','Electrical','KitchenQual','GarageType','GarageFinish','GarageQual','PavedDrive',\n",
        "                    'SaleType','SaleCondition'], axis=1)           \n",
        "\n",
        "test.head()"
      ],
      "execution_count": null,
      "outputs": [
        {
          "output_type": "execute_result",
          "data": {
            "text/html": [
              "<div>\n",
              "<style scoped>\n",
              "    .dataframe tbody tr th:only-of-type {\n",
              "        vertical-align: middle;\n",
              "    }\n",
              "\n",
              "    .dataframe tbody tr th {\n",
              "        vertical-align: top;\n",
              "    }\n",
              "\n",
              "    .dataframe thead th {\n",
              "        text-align: right;\n",
              "    }\n",
              "</style>\n",
              "<table border=\"1\" class=\"dataframe\">\n",
              "  <thead>\n",
              "    <tr style=\"text-align: right;\">\n",
              "      <th></th>\n",
              "      <th>Id</th>\n",
              "      <th>MSSubClass</th>\n",
              "      <th>LotFrontage</th>\n",
              "      <th>LotArea</th>\n",
              "      <th>...</th>\n",
              "      <th>AdjLand</th>\n",
              "      <th>Alloca</th>\n",
              "      <th>Family</th>\n",
              "      <th>Partial</th>\n",
              "    </tr>\n",
              "  </thead>\n",
              "  <tbody>\n",
              "    <tr>\n",
              "      <th>0</th>\n",
              "      <td>1461</td>\n",
              "      <td>20</td>\n",
              "      <td>80.0</td>\n",
              "      <td>11622</td>\n",
              "      <td>...</td>\n",
              "      <td>0</td>\n",
              "      <td>0</td>\n",
              "      <td>1</td>\n",
              "      <td>0</td>\n",
              "    </tr>\n",
              "    <tr>\n",
              "      <th>1</th>\n",
              "      <td>1462</td>\n",
              "      <td>20</td>\n",
              "      <td>81.0</td>\n",
              "      <td>14267</td>\n",
              "      <td>...</td>\n",
              "      <td>0</td>\n",
              "      <td>0</td>\n",
              "      <td>1</td>\n",
              "      <td>0</td>\n",
              "    </tr>\n",
              "    <tr>\n",
              "      <th>2</th>\n",
              "      <td>1463</td>\n",
              "      <td>60</td>\n",
              "      <td>74.0</td>\n",
              "      <td>13830</td>\n",
              "      <td>...</td>\n",
              "      <td>0</td>\n",
              "      <td>0</td>\n",
              "      <td>1</td>\n",
              "      <td>0</td>\n",
              "    </tr>\n",
              "    <tr>\n",
              "      <th>3</th>\n",
              "      <td>1464</td>\n",
              "      <td>60</td>\n",
              "      <td>78.0</td>\n",
              "      <td>9978</td>\n",
              "      <td>...</td>\n",
              "      <td>0</td>\n",
              "      <td>0</td>\n",
              "      <td>1</td>\n",
              "      <td>0</td>\n",
              "    </tr>\n",
              "    <tr>\n",
              "      <th>4</th>\n",
              "      <td>1465</td>\n",
              "      <td>120</td>\n",
              "      <td>43.0</td>\n",
              "      <td>5005</td>\n",
              "      <td>...</td>\n",
              "      <td>0</td>\n",
              "      <td>0</td>\n",
              "      <td>1</td>\n",
              "      <td>0</td>\n",
              "    </tr>\n",
              "  </tbody>\n",
              "</table>\n",
              "<p>5 rows × 208 columns</p>\n",
              "</div>"
            ],
            "text/plain": [
              "     Id  MSSubClass  LotFrontage  LotArea  ... AdjLand Alloca Family Partial\n",
              "0  1461          20         80.0    11622  ...       0      0      1       0\n",
              "1  1462          20         81.0    14267  ...       0      0      1       0\n",
              "2  1463          60         74.0    13830  ...       0      0      1       0\n",
              "3  1464          60         78.0     9978  ...       0      0      1       0\n",
              "4  1465         120         43.0     5005  ...       0      0      1       0\n",
              "\n",
              "[5 rows x 208 columns]"
            ]
          },
          "metadata": {
            "tags": []
          },
          "execution_count": 93
        }
      ]
    },
    {
      "cell_type": "code",
      "metadata": {
        "id": "blJ1KXeNZzJC"
      },
      "source": [
        "#creates X_final and gives it the same features as X\n",
        "X_final = test.drop(['Id','Street','Alley','LandContour','Utilities','LandSlope','Condition1','Condition2','RoofMatl','ExterQual','ExterCond','BsmtFinType1','BsmtFinSF1','BsmtFinType2','BsmtFinSF2','Heating','CentralAir','LowQualFinSF','Functional','FireplaceQu','GarageCond','PoolQC','Fence','MiscFeature'], axis=1)\n",
        "X_final.head()\n",
        "X_final = X_final.apply(pd.to_numeric, errors='coerce')\n",
        "scaler = StandardScaler().fit(X_final) \n",
        "x_scaled = scaler.transform(X_final) \n",
        "X_final.fillna(0, inplace=True)"
      ],
      "execution_count": null,
      "outputs": []
    },
    {
      "cell_type": "code",
      "metadata": {
        "id": "dglz_Z3wZGfa"
      },
      "source": [
        "prices_pred = boost.predict(X_final)"
      ],
      "execution_count": null,
      "outputs": []
    }
  ]
}